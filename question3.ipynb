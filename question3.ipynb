{
 "cells": [
  {
   "cell_type": "code",
   "execution_count": 84,
   "metadata": {},
   "outputs": [],
   "source": [
    "import pandas as pd\n",
    "import numpy as np\n",
    "from matplotlib import pyplot as plt\n",
    "from matplotlib.axes import Axes"
   ]
  },
  {
   "cell_type": "code",
   "execution_count": 2,
   "metadata": {},
   "outputs": [
    {
     "name": "stderr",
     "output_type": "stream",
     "text": [
      "/Users/rezaalemy/anaconda3/envs/alij/lib/python3.7/site-packages/IPython/core/interactiveshell.py:3049: DtypeWarning: Columns (10) have mixed types. Specify dtype option on import or set low_memory=False.\n",
      "  interactivity=interactivity, compiler=compiler, result=result)\n"
     ]
    }
   ],
   "source": [
    "data = pd.read_csv(\"/Users/rezaalemy/Downloads/Medicare_Provider_Util_Payment_PUF_CY2017/Medicare_Provider_Util_Payment_PUF_CY2017.txt\", delimiter='\\t')"
   ]
  },
  {
   "cell_type": "code",
   "execution_count": 3,
   "metadata": {},
   "outputs": [
    {
     "data": {
      "text/html": [
       "<div>\n",
       "<style scoped>\n",
       "    .dataframe tbody tr th:only-of-type {\n",
       "        vertical-align: middle;\n",
       "    }\n",
       "\n",
       "    .dataframe tbody tr th {\n",
       "        vertical-align: top;\n",
       "    }\n",
       "\n",
       "    .dataframe thead th {\n",
       "        text-align: right;\n",
       "    }\n",
       "</style>\n",
       "<table border=\"1\" class=\"dataframe\">\n",
       "  <thead>\n",
       "    <tr style=\"text-align: right;\">\n",
       "      <th></th>\n",
       "      <th>npi</th>\n",
       "      <th>nppes_provider_last_org_name</th>\n",
       "      <th>nppes_provider_first_name</th>\n",
       "      <th>nppes_provider_mi</th>\n",
       "      <th>nppes_credentials</th>\n",
       "      <th>nppes_provider_gender</th>\n",
       "      <th>nppes_entity_code</th>\n",
       "      <th>nppes_provider_street1</th>\n",
       "      <th>nppes_provider_street2</th>\n",
       "      <th>nppes_provider_city</th>\n",
       "      <th>...</th>\n",
       "      <th>hcpcs_code</th>\n",
       "      <th>hcpcs_description</th>\n",
       "      <th>hcpcs_drug_indicator</th>\n",
       "      <th>line_srvc_cnt</th>\n",
       "      <th>bene_unique_cnt</th>\n",
       "      <th>bene_day_srvc_cnt</th>\n",
       "      <th>average_Medicare_allowed_amt</th>\n",
       "      <th>average_submitted_chrg_amt</th>\n",
       "      <th>average_Medicare_payment_amt</th>\n",
       "      <th>average_Medicare_standard_amt</th>\n",
       "    </tr>\n",
       "  </thead>\n",
       "  <tbody>\n",
       "    <tr>\n",
       "      <th>0</th>\n",
       "      <td>1</td>\n",
       "      <td>CPT copyright 2016 American Medical Associatio...</td>\n",
       "      <td>NaN</td>\n",
       "      <td>NaN</td>\n",
       "      <td>NaN</td>\n",
       "      <td>NaN</td>\n",
       "      <td>NaN</td>\n",
       "      <td>NaN</td>\n",
       "      <td>NaN</td>\n",
       "      <td>NaN</td>\n",
       "      <td>...</td>\n",
       "      <td>NaN</td>\n",
       "      <td>NaN</td>\n",
       "      <td>NaN</td>\n",
       "      <td>NaN</td>\n",
       "      <td>NaN</td>\n",
       "      <td>NaN</td>\n",
       "      <td>NaN</td>\n",
       "      <td>NaN</td>\n",
       "      <td>NaN</td>\n",
       "      <td>NaN</td>\n",
       "    </tr>\n",
       "    <tr>\n",
       "      <th>1</th>\n",
       "      <td>1003000126</td>\n",
       "      <td>ENKESHAFI</td>\n",
       "      <td>ARDALAN</td>\n",
       "      <td>NaN</td>\n",
       "      <td>M.D.</td>\n",
       "      <td>M</td>\n",
       "      <td>I</td>\n",
       "      <td>900 SETON DR</td>\n",
       "      <td>NaN</td>\n",
       "      <td>CUMBERLAND</td>\n",
       "      <td>...</td>\n",
       "      <td>99217</td>\n",
       "      <td>Hospital observation care discharge</td>\n",
       "      <td>N</td>\n",
       "      <td>100.0</td>\n",
       "      <td>96.0</td>\n",
       "      <td>100.0</td>\n",
       "      <td>73.398800</td>\n",
       "      <td>325.780000</td>\n",
       "      <td>56.827200</td>\n",
       "      <td>57.492400</td>\n",
       "    </tr>\n",
       "    <tr>\n",
       "      <th>2</th>\n",
       "      <td>1003000126</td>\n",
       "      <td>ENKESHAFI</td>\n",
       "      <td>ARDALAN</td>\n",
       "      <td>NaN</td>\n",
       "      <td>M.D.</td>\n",
       "      <td>M</td>\n",
       "      <td>I</td>\n",
       "      <td>900 SETON DR</td>\n",
       "      <td>NaN</td>\n",
       "      <td>CUMBERLAND</td>\n",
       "      <td>...</td>\n",
       "      <td>99218</td>\n",
       "      <td>Hospital observation care typically 30 minutes</td>\n",
       "      <td>N</td>\n",
       "      <td>26.0</td>\n",
       "      <td>25.0</td>\n",
       "      <td>26.0</td>\n",
       "      <td>100.080000</td>\n",
       "      <td>449.000000</td>\n",
       "      <td>78.460000</td>\n",
       "      <td>79.306154</td>\n",
       "    </tr>\n",
       "    <tr>\n",
       "      <th>3</th>\n",
       "      <td>1003000126</td>\n",
       "      <td>ENKESHAFI</td>\n",
       "      <td>ARDALAN</td>\n",
       "      <td>NaN</td>\n",
       "      <td>M.D.</td>\n",
       "      <td>M</td>\n",
       "      <td>I</td>\n",
       "      <td>900 SETON DR</td>\n",
       "      <td>NaN</td>\n",
       "      <td>CUMBERLAND</td>\n",
       "      <td>...</td>\n",
       "      <td>99219</td>\n",
       "      <td>Hospital observation care typically 50 minutes</td>\n",
       "      <td>N</td>\n",
       "      <td>52.0</td>\n",
       "      <td>51.0</td>\n",
       "      <td>52.0</td>\n",
       "      <td>136.380000</td>\n",
       "      <td>614.000000</td>\n",
       "      <td>102.807692</td>\n",
       "      <td>103.895385</td>\n",
       "    </tr>\n",
       "    <tr>\n",
       "      <th>4</th>\n",
       "      <td>1003000126</td>\n",
       "      <td>ENKESHAFI</td>\n",
       "      <td>ARDALAN</td>\n",
       "      <td>NaN</td>\n",
       "      <td>M.D.</td>\n",
       "      <td>M</td>\n",
       "      <td>I</td>\n",
       "      <td>900 SETON DR</td>\n",
       "      <td>NaN</td>\n",
       "      <td>CUMBERLAND</td>\n",
       "      <td>...</td>\n",
       "      <td>99220</td>\n",
       "      <td>Hospital observation care typically 70 minutes...</td>\n",
       "      <td>N</td>\n",
       "      <td>59.0</td>\n",
       "      <td>59.0</td>\n",
       "      <td>59.0</td>\n",
       "      <td>190.363729</td>\n",
       "      <td>755.932203</td>\n",
       "      <td>141.293559</td>\n",
       "      <td>142.865763</td>\n",
       "    </tr>\n",
       "  </tbody>\n",
       "</table>\n",
       "<p>5 rows × 26 columns</p>\n",
       "</div>"
      ],
      "text/plain": [
       "          npi                       nppes_provider_last_org_name  \\\n",
       "0           1  CPT copyright 2016 American Medical Associatio...   \n",
       "1  1003000126                                          ENKESHAFI   \n",
       "2  1003000126                                          ENKESHAFI   \n",
       "3  1003000126                                          ENKESHAFI   \n",
       "4  1003000126                                          ENKESHAFI   \n",
       "\n",
       "  nppes_provider_first_name nppes_provider_mi nppes_credentials  \\\n",
       "0                       NaN               NaN               NaN   \n",
       "1                   ARDALAN               NaN              M.D.   \n",
       "2                   ARDALAN               NaN              M.D.   \n",
       "3                   ARDALAN               NaN              M.D.   \n",
       "4                   ARDALAN               NaN              M.D.   \n",
       "\n",
       "  nppes_provider_gender nppes_entity_code nppes_provider_street1  \\\n",
       "0                   NaN               NaN                    NaN   \n",
       "1                     M                 I           900 SETON DR   \n",
       "2                     M                 I           900 SETON DR   \n",
       "3                     M                 I           900 SETON DR   \n",
       "4                     M                 I           900 SETON DR   \n",
       "\n",
       "  nppes_provider_street2 nppes_provider_city  ... hcpcs_code  \\\n",
       "0                    NaN                 NaN  ...        NaN   \n",
       "1                    NaN          CUMBERLAND  ...      99217   \n",
       "2                    NaN          CUMBERLAND  ...      99218   \n",
       "3                    NaN          CUMBERLAND  ...      99219   \n",
       "4                    NaN          CUMBERLAND  ...      99220   \n",
       "\n",
       "                                   hcpcs_description hcpcs_drug_indicator  \\\n",
       "0                                                NaN                  NaN   \n",
       "1                Hospital observation care discharge                    N   \n",
       "2     Hospital observation care typically 30 minutes                    N   \n",
       "3     Hospital observation care typically 50 minutes                    N   \n",
       "4  Hospital observation care typically 70 minutes...                    N   \n",
       "\n",
       "  line_srvc_cnt bene_unique_cnt bene_day_srvc_cnt  \\\n",
       "0           NaN             NaN               NaN   \n",
       "1         100.0            96.0             100.0   \n",
       "2          26.0            25.0              26.0   \n",
       "3          52.0            51.0              52.0   \n",
       "4          59.0            59.0              59.0   \n",
       "\n",
       "  average_Medicare_allowed_amt average_submitted_chrg_amt  \\\n",
       "0                          NaN                        NaN   \n",
       "1                    73.398800                 325.780000   \n",
       "2                   100.080000                 449.000000   \n",
       "3                   136.380000                 614.000000   \n",
       "4                   190.363729                 755.932203   \n",
       "\n",
       "  average_Medicare_payment_amt  average_Medicare_standard_amt  \n",
       "0                          NaN                            NaN  \n",
       "1                    56.827200                      57.492400  \n",
       "2                    78.460000                      79.306154  \n",
       "3                   102.807692                     103.895385  \n",
       "4                   141.293559                     142.865763  \n",
       "\n",
       "[5 rows x 26 columns]"
      ]
     },
     "execution_count": 3,
     "metadata": {},
     "output_type": "execute_result"
    }
   ],
   "source": [
    "data.head()"
   ]
  },
  {
   "cell_type": "code",
   "execution_count": 4,
   "metadata": {},
   "outputs": [],
   "source": [
    "data = data.drop(0)"
   ]
  },
  {
   "cell_type": "code",
   "execution_count": 8,
   "metadata": {},
   "outputs": [],
   "source": [
    "provider_data = data[['npi','average_Medicare_allowed_amt', 'average_submitted_chrg_amt','hcpcs_code']]\\\n",
    "                    .groupby('npi')\\\n",
    "                    .agg({'average_Medicare_allowed_amt': 'mean', \\\n",
    "                          'average_submitted_chrg_amt':'mean', \\\n",
    "                          'hcpcs_code': 'count'})"
   ]
  },
  {
   "cell_type": "code",
   "execution_count": 20,
   "metadata": {},
   "outputs": [
    {
     "data": {
      "text/plain": [
       "(1032911, 4)"
      ]
     },
     "execution_count": 20,
     "metadata": {},
     "output_type": "execute_result"
    }
   ],
   "source": [
    "provider_data['gap'] = np.log(provider_data['average_submitted_chrg_amt'] / \\\n",
    "                              provider_data['average_Medicare_allowed_amt'])\n",
    "provider_data = provider_data.sort_values('gap')\n",
    "provider_data.shape"
   ]
  },
  {
   "cell_type": "markdown",
   "metadata": {},
   "source": [
    "## How many providers have no discrepancy?"
   ]
  },
  {
   "cell_type": "code",
   "execution_count": 19,
   "metadata": {},
   "outputs": [
    {
     "data": {
      "text/plain": [
       "(19705, 4)"
      ]
     },
     "execution_count": 19,
     "metadata": {},
     "output_type": "execute_result"
    }
   ],
   "source": [
    "provider_data[provider_data['gap']== 0.0].shape"
   ]
  },
  {
   "cell_type": "markdown",
   "metadata": {},
   "source": [
    "### How many have high level of discrepancy (7 times and more)"
   ]
  },
  {
   "cell_type": "code",
   "execution_count": 34,
   "metadata": {},
   "outputs": [
    {
     "data": {
      "text/plain": [
       "(67667, 4)"
      ]
     },
     "execution_count": 34,
     "metadata": {},
     "output_type": "execute_result"
    }
   ],
   "source": [
    "provider_data[provider_data['gap']> 2.0].shape"
   ]
  },
  {
   "cell_type": "code",
   "execution_count": 26,
   "metadata": {},
   "outputs": [
    {
     "data": {
      "text/plain": [
       "Text(0.5, 0, 'number of providers')"
      ]
     },
     "execution_count": 26,
     "metadata": {},
     "output_type": "execute_result"
    },
    {
     "data": {
      "image/png": "[encoded data removed]",
      "text/plain": [
       "<Figure size 1296x720 with 1 Axes>"
      ]
     },
     "metadata": {
      "needs_background": "light"
     },
     "output_type": "display_data"
    }
   ],
   "source": [
    "plt.figure(figsize = (18,10))\n",
    "plt.grid()\n",
    "plt.plot(np.array(provider_data['gap']).reshape(-1,1))\n",
    "plt.title(\"Medicare PUF CY-2015\")\n",
    "plt.ylabel('log of Discrepancy')\n",
    "plt.xlabel('number of providers')\n"
   ]
  },
  {
   "cell_type": "code",
   "execution_count": 88,
   "metadata": {},
   "outputs": [
    {
     "data": {
      "text/html": [
       "<div>\n",
       "<style scoped>\n",
       "    .dataframe tbody tr th:only-of-type {\n",
       "        vertical-align: middle;\n",
       "    }\n",
       "\n",
       "    .dataframe tbody tr th {\n",
       "        vertical-align: top;\n",
       "    }\n",
       "\n",
       "    .dataframe thead th {\n",
       "        text-align: right;\n",
       "    }\n",
       "</style>\n",
       "<table border=\"1\" class=\"dataframe\">\n",
       "  <thead>\n",
       "    <tr style=\"text-align: right;\">\n",
       "      <th></th>\n",
       "      <th>count</th>\n",
       "      <th>gap</th>\n",
       "    </tr>\n",
       "    <tr>\n",
       "      <th>hcpcs_code</th>\n",
       "      <th></th>\n",
       "      <th></th>\n",
       "    </tr>\n",
       "  </thead>\n",
       "  <tbody>\n",
       "    <tr>\n",
       "      <th>1</th>\n",
       "      <td>7127</td>\n",
       "      <td>2.435094</td>\n",
       "    </tr>\n",
       "    <tr>\n",
       "      <th>2</th>\n",
       "      <td>9311</td>\n",
       "      <td>2.397783</td>\n",
       "    </tr>\n",
       "    <tr>\n",
       "      <th>3</th>\n",
       "      <td>10426</td>\n",
       "      <td>2.358884</td>\n",
       "    </tr>\n",
       "    <tr>\n",
       "      <th>4</th>\n",
       "      <td>9866</td>\n",
       "      <td>2.336315</td>\n",
       "    </tr>\n",
       "    <tr>\n",
       "      <th>5</th>\n",
       "      <td>8042</td>\n",
       "      <td>2.310136</td>\n",
       "    </tr>\n",
       "  </tbody>\n",
       "</table>\n",
       "</div>"
      ],
      "text/plain": [
       "            count       gap\n",
       "hcpcs_code                 \n",
       "1            7127  2.435094\n",
       "2            9311  2.397783\n",
       "3           10426  2.358884\n",
       "4            9866  2.336315\n",
       "5            8042  2.310136"
      ]
     },
     "execution_count": 88,
     "metadata": {},
     "output_type": "execute_result"
    }
   ],
   "source": [
    "high_charge_codes = provider_data[provider_data['gap']> 2.0].groupby('hcpcs_code').agg({'average_Medicare_allowed_amt': 'count', 'gap': 'mean'}).rename(columns={\n",
    "    'average_Medicare_allowed_amt': 'count'\n",
    "})\n",
    "high_charge_codes.head()"
   ]
  },
  {
   "cell_type": "markdown",
   "metadata": {},
   "source": [
    "## Most value is to providers with moderate amount of errors\n",
    "few errors is usually due to human error. too many errors is probably a sign of late technology adaptors still using manual processes"
   ]
  },
  {
   "cell_type": "code",
   "execution_count": 93,
   "metadata": {},
   "outputs": [],
   "source": [
    "high_charge = high_charge_codes\n",
    "high_charge = high_charge[20:100] \n"
   ]
  },
  {
   "cell_type": "code",
   "execution_count": 95,
   "metadata": {},
   "outputs": [
    {
     "data": {
      "image/png": "[encoded data removed]",
      "text/plain": [
       "<Figure size 1296x720 with 1 Axes>"
      ]
     },
     "metadata": {
      "needs_background": "light"
     },
     "output_type": "display_data"
    }
   ],
   "source": [
    "bined_charge = high_charge.groupby(pd.cut(high_charge.index, [20,40,60,80,140])).agg({'count':'sum', 'gap': 'mean' })\n",
    "plot.set_xlabel('Number of overcharged codes')\n",
    "plot.set_ylabel('Number of providers')\n",
    "plot = bined_charge['count'].plot(kind = 'bar', figsize=(18,10) , title = \"Medicaid CY 2015\")\n"
   ]
  },
  {
   "cell_type": "markdown",
   "metadata": {},
   "source": [
    "# Exploring to find potential effect of HCPCS Codes\n",
    "it is possible that some codes are harder to identify and result in errors in calculation of the amount to charge. for example, it is possible that a visit code is used instead of a procedure code which results in discrepancy"
   ]
  },
  {
   "cell_type": "code",
   "execution_count": 99,
   "metadata": {},
   "outputs": [
    {
     "data": {
      "image/png": "[encoded data removed]",
      "text/plain": [
       "<Figure size 1296x720 with 1 Axes>"
      ]
     },
     "metadata": {
      "needs_background": "light"
     },
     "output_type": "display_data"
    }
   ],
   "source": [
    "hcpcs_data = data[['hcpcs_code','average_Medicare_allowed_amt', 'average_submitted_chrg_amt']].groupby('hcpcs_code').mean()\n",
    "hcpcs_data['gap'] = np.log(hcpcs_data['average_submitted_chrg_amt'] / hcpcs_data['average_Medicare_allowed_amt'])\n",
    "hcpcs_data = hcpcs_data.sort_values('gap')\n",
    "plt.figure(figsize=(18,10))\n",
    "plt.xlabel('HCPCS codes with discrepancy')\n",
    "plt.ylabel('Log of discrepancy')\n",
    "plt.title('Cumulative log of discrepancy over HCPCS codes')\n",
    "plt.plot(np.array(hcpcs_data['gap']).reshape(-1,1))\n",
    "plt.grid()"
   ]
  },
  {
   "cell_type": "code",
   "execution_count": 100,
   "metadata": {},
   "outputs": [
    {
     "data": {
      "text/html": [
       "<div>\n",
       "<style scoped>\n",
       "    .dataframe tbody tr th:only-of-type {\n",
       "        vertical-align: middle;\n",
       "    }\n",
       "\n",
       "    .dataframe tbody tr th {\n",
       "        vertical-align: top;\n",
       "    }\n",
       "\n",
       "    .dataframe thead th {\n",
       "        text-align: right;\n",
       "    }\n",
       "</style>\n",
       "<table border=\"1\" class=\"dataframe\">\n",
       "  <thead>\n",
       "    <tr style=\"text-align: right;\">\n",
       "      <th></th>\n",
       "      <th>average_Medicare_allowed_amt</th>\n",
       "      <th>average_submitted_chrg_amt</th>\n",
       "      <th>gap</th>\n",
       "    </tr>\n",
       "    <tr>\n",
       "      <th>hcpcs_code</th>\n",
       "      <th></th>\n",
       "      <th></th>\n",
       "      <th></th>\n",
       "    </tr>\n",
       "  </thead>\n",
       "  <tbody>\n",
       "    <tr>\n",
       "      <th>J2810</th>\n",
       "      <td>0.299394</td>\n",
       "      <td>100.000000</td>\n",
       "      <td>5.811165</td>\n",
       "    </tr>\n",
       "    <tr>\n",
       "      <th>J2001</th>\n",
       "      <td>0.019395</td>\n",
       "      <td>14.058999</td>\n",
       "      <td>6.585999</td>\n",
       "    </tr>\n",
       "    <tr>\n",
       "      <th>A4212</th>\n",
       "      <td>0.010000</td>\n",
       "      <td>15.000000</td>\n",
       "      <td>7.313220</td>\n",
       "    </tr>\n",
       "    <tr>\n",
       "      <th>92593</th>\n",
       "      <td>0.010000</td>\n",
       "      <td>43.000000</td>\n",
       "      <td>8.366370</td>\n",
       "    </tr>\n",
       "    <tr>\n",
       "      <th>99401</th>\n",
       "      <td>0.010000</td>\n",
       "      <td>90.000000</td>\n",
       "      <td>9.104980</td>\n",
       "    </tr>\n",
       "  </tbody>\n",
       "</table>\n",
       "</div>"
      ],
      "text/plain": [
       "            average_Medicare_allowed_amt  average_submitted_chrg_amt       gap\n",
       "hcpcs_code                                                                    \n",
       "J2810                           0.299394                  100.000000  5.811165\n",
       "J2001                           0.019395                   14.058999  6.585999\n",
       "A4212                           0.010000                   15.000000  7.313220\n",
       "92593                           0.010000                   43.000000  8.366370\n",
       "99401                           0.010000                   90.000000  9.104980"
      ]
     },
     "execution_count": 100,
     "metadata": {},
     "output_type": "execute_result"
    }
   ],
   "source": [
    "hcpcs_data.tail()"
   ]
  },
  {
   "cell_type": "markdown",
   "metadata": {},
   "source": [
    "## Stratification by provider\n",
    "Stratification of codes by provider shows even larger average gaps"
   ]
  },
  {
   "cell_type": "code",
   "execution_count": 111,
   "metadata": {},
   "outputs": [],
   "source": [
    "hcpcs_provider_data = data[['hcpcs_code', 'npi','average_Medicare_allowed_amt', 'average_submitted_chrg_amt']].groupby(['hcpcs_code','npi']).mean()\n",
    "hcpcs_provider_data['gap'] = np.log(hcpcs_provider_data['average_submitted_chrg_amt'] / hcpcs_provider_data['average_Medicare_allowed_amt'])\n",
    "hcpcs_provider_data = hcpcs_provider_data.sort_values('gap')"
   ]
  },
  {
   "cell_type": "code",
   "execution_count": 112,
   "metadata": {},
   "outputs": [
    {
     "data": {
      "text/html": [
       "<div>\n",
       "<style scoped>\n",
       "    .dataframe tbody tr th:only-of-type {\n",
       "        vertical-align: middle;\n",
       "    }\n",
       "\n",
       "    .dataframe tbody tr th {\n",
       "        vertical-align: top;\n",
       "    }\n",
       "\n",
       "    .dataframe thead th {\n",
       "        text-align: right;\n",
       "    }\n",
       "</style>\n",
       "<table border=\"1\" class=\"dataframe\">\n",
       "  <thead>\n",
       "    <tr style=\"text-align: right;\">\n",
       "      <th></th>\n",
       "      <th></th>\n",
       "      <th>average_Medicare_allowed_amt</th>\n",
       "      <th>average_submitted_chrg_amt</th>\n",
       "      <th>gap</th>\n",
       "    </tr>\n",
       "    <tr>\n",
       "      <th>hcpcs_code</th>\n",
       "      <th>npi</th>\n",
       "      <th></th>\n",
       "      <th></th>\n",
       "      <th></th>\n",
       "    </tr>\n",
       "  </thead>\n",
       "  <tbody>\n",
       "    <tr>\n",
       "      <th>31623</th>\n",
       "      <th>1487716437</th>\n",
       "      <td>0.092500</td>\n",
       "      <td>848.0</td>\n",
       "      <td>9.123427</td>\n",
       "    </tr>\n",
       "    <tr>\n",
       "      <th>J3490</th>\n",
       "      <th>1851368377</th>\n",
       "      <td>0.169250</td>\n",
       "      <td>1695.0</td>\n",
       "      <td>9.211816</td>\n",
       "    </tr>\n",
       "    <tr>\n",
       "      <th>J1071</th>\n",
       "      <th>1972588598</th>\n",
       "      <td>0.022261</td>\n",
       "      <td>300.0</td>\n",
       "      <td>9.508692</td>\n",
       "    </tr>\n",
       "    <tr>\n",
       "      <th rowspan=\"2\" valign=\"top\">J2001</th>\n",
       "      <th>1487827408</th>\n",
       "      <td>0.019302</td>\n",
       "      <td>500.0</td>\n",
       "      <td>10.162138</td>\n",
       "    </tr>\n",
       "    <tr>\n",
       "      <th>1033317219</th>\n",
       "      <td>0.020000</td>\n",
       "      <td>660.0</td>\n",
       "      <td>10.404263</td>\n",
       "    </tr>\n",
       "  </tbody>\n",
       "</table>\n",
       "</div>"
      ],
      "text/plain": [
       "                       average_Medicare_allowed_amt  \\\n",
       "hcpcs_code npi                                        \n",
       "31623      1487716437                      0.092500   \n",
       "J3490      1851368377                      0.169250   \n",
       "J1071      1972588598                      0.022261   \n",
       "J2001      1487827408                      0.019302   \n",
       "           1033317219                      0.020000   \n",
       "\n",
       "                       average_submitted_chrg_amt        gap  \n",
       "hcpcs_code npi                                                \n",
       "31623      1487716437                       848.0   9.123427  \n",
       "J3490      1851368377                      1695.0   9.211816  \n",
       "J1071      1972588598                       300.0   9.508692  \n",
       "J2001      1487827408                       500.0  10.162138  \n",
       "           1033317219                       660.0  10.404263  "
      ]
     },
     "execution_count": 112,
     "metadata": {},
     "output_type": "execute_result"
    }
   ],
   "source": [
    "hcpcs_provider_data.tail()"
   ]
  },
  {
   "cell_type": "markdown",
   "metadata": {},
   "source": [
    "### Which could show specific codes with which a specific provider is struggling"
   ]
  },
  {
   "cell_type": "code",
   "execution_count": 114,
   "metadata": {},
   "outputs": [
    {
     "data": {
      "text/html": [
       "<div>\n",
       "<style scoped>\n",
       "    .dataframe tbody tr th:only-of-type {\n",
       "        vertical-align: middle;\n",
       "    }\n",
       "\n",
       "    .dataframe tbody tr th {\n",
       "        vertical-align: top;\n",
       "    }\n",
       "\n",
       "    .dataframe thead th {\n",
       "        text-align: right;\n",
       "    }\n",
       "</style>\n",
       "<table border=\"1\" class=\"dataframe\">\n",
       "  <thead>\n",
       "    <tr style=\"text-align: right;\">\n",
       "      <th></th>\n",
       "      <th></th>\n",
       "      <th>average_Medicare_allowed_amt</th>\n",
       "      <th>average_submitted_chrg_amt</th>\n",
       "      <th>gap</th>\n",
       "    </tr>\n",
       "    <tr>\n",
       "      <th>hcpcs_code</th>\n",
       "      <th>npi</th>\n",
       "      <th></th>\n",
       "      <th></th>\n",
       "      <th></th>\n",
       "    </tr>\n",
       "  </thead>\n",
       "  <tbody>\n",
       "    <tr>\n",
       "      <th>99223</th>\n",
       "      <th>1033317219</th>\n",
       "      <td>206.563235</td>\n",
       "      <td>310.277647</td>\n",
       "      <td>0.406861</td>\n",
       "    </tr>\n",
       "    <tr>\n",
       "      <th>99222</th>\n",
       "      <th>1033317219</th>\n",
       "      <td>143.090000</td>\n",
       "      <td>244.267273</td>\n",
       "      <td>0.534789</td>\n",
       "    </tr>\n",
       "    <tr>\n",
       "      <th>99204</th>\n",
       "      <th>1033317219</th>\n",
       "      <td>173.720000</td>\n",
       "      <td>357.500000</td>\n",
       "      <td>0.721691</td>\n",
       "    </tr>\n",
       "    <tr>\n",
       "      <th>99215</th>\n",
       "      <th>1033317219</th>\n",
       "      <td>153.360000</td>\n",
       "      <td>316.800000</td>\n",
       "      <td>0.725483</td>\n",
       "    </tr>\n",
       "    <tr>\n",
       "      <th>99214</th>\n",
       "      <th>1033317219</th>\n",
       "      <td>114.170000</td>\n",
       "      <td>274.515915</td>\n",
       "      <td>0.877321</td>\n",
       "    </tr>\n",
       "    <tr>\n",
       "      <th>99203</th>\n",
       "      <th>1033317219</th>\n",
       "      <td>114.622250</td>\n",
       "      <td>323.585500</td>\n",
       "      <td>1.037821</td>\n",
       "    </tr>\n",
       "    <tr>\n",
       "      <th>99213</th>\n",
       "      <th>1033317219</th>\n",
       "      <td>77.790000</td>\n",
       "      <td>219.748918</td>\n",
       "      <td>1.038473</td>\n",
       "    </tr>\n",
       "    <tr>\n",
       "      <th>20611</th>\n",
       "      <th>1033317219</th>\n",
       "      <td>97.457537</td>\n",
       "      <td>330.665025</td>\n",
       "      <td>1.221689</td>\n",
       "    </tr>\n",
       "    <tr>\n",
       "      <th>73565</th>\n",
       "      <th>1033317219</th>\n",
       "      <td>38.550769</td>\n",
       "      <td>192.504231</td>\n",
       "      <td>1.608142</td>\n",
       "    </tr>\n",
       "    <tr>\n",
       "      <th>73502</th>\n",
       "      <th>1033317219</th>\n",
       "      <td>45.410000</td>\n",
       "      <td>231.296471</td>\n",
       "      <td>1.627968</td>\n",
       "    </tr>\n",
       "    <tr>\n",
       "      <th>72040</th>\n",
       "      <th>1033317219</th>\n",
       "      <td>35.920000</td>\n",
       "      <td>185.603478</td>\n",
       "      <td>1.642318</td>\n",
       "    </tr>\n",
       "    <tr>\n",
       "      <th>73630</th>\n",
       "      <th>1033317219</th>\n",
       "      <td>31.740000</td>\n",
       "      <td>177.677419</td>\n",
       "      <td>1.722392</td>\n",
       "    </tr>\n",
       "    <tr>\n",
       "      <th>73110</th>\n",
       "      <th>1033317219</th>\n",
       "      <td>38.870000</td>\n",
       "      <td>224.478462</td>\n",
       "      <td>1.753557</td>\n",
       "    </tr>\n",
       "    <tr>\n",
       "      <th>73610</th>\n",
       "      <th>1033317219</th>\n",
       "      <td>34.022500</td>\n",
       "      <td>199.426875</td>\n",
       "      <td>1.768426</td>\n",
       "    </tr>\n",
       "    <tr>\n",
       "      <th>73552</th>\n",
       "      <th>1033317219</th>\n",
       "      <td>35.660000</td>\n",
       "      <td>216.635294</td>\n",
       "      <td>1.804186</td>\n",
       "    </tr>\n",
       "    <tr>\n",
       "      <th>73562</th>\n",
       "      <th>1033317219</th>\n",
       "      <td>39.220000</td>\n",
       "      <td>248.084746</td>\n",
       "      <td>1.844584</td>\n",
       "    </tr>\n",
       "    <tr>\n",
       "      <th>72100</th>\n",
       "      <th>1033317219</th>\n",
       "      <td>38.290000</td>\n",
       "      <td>242.468852</td>\n",
       "      <td>1.845684</td>\n",
       "    </tr>\n",
       "    <tr>\n",
       "      <th>27245</th>\n",
       "      <th>1033317219</th>\n",
       "      <td>1325.720000</td>\n",
       "      <td>8641.285714</td>\n",
       "      <td>1.874596</td>\n",
       "    </tr>\n",
       "    <tr>\n",
       "      <th>73130</th>\n",
       "      <th>1033317219</th>\n",
       "      <td>33.720000</td>\n",
       "      <td>224.400000</td>\n",
       "      <td>1.895339</td>\n",
       "    </tr>\n",
       "    <tr>\n",
       "      <th>73080</th>\n",
       "      <th>1033317219</th>\n",
       "      <td>34.120000</td>\n",
       "      <td>237.600000</td>\n",
       "      <td>1.940705</td>\n",
       "    </tr>\n",
       "    <tr>\n",
       "      <th>73030</th>\n",
       "      <th>1033317219</th>\n",
       "      <td>31.710000</td>\n",
       "      <td>264.920930</td>\n",
       "      <td>2.122799</td>\n",
       "    </tr>\n",
       "    <tr>\n",
       "      <th>27130</th>\n",
       "      <th>1033317219</th>\n",
       "      <td>1458.370000</td>\n",
       "      <td>22044.000000</td>\n",
       "      <td>2.715721</td>\n",
       "    </tr>\n",
       "    <tr>\n",
       "      <th>J7325</th>\n",
       "      <th>1033317219</th>\n",
       "      <td>12.642156</td>\n",
       "      <td>212.256182</td>\n",
       "      <td>2.820757</td>\n",
       "    </tr>\n",
       "    <tr>\n",
       "      <th>J3303</th>\n",
       "      <th>1033317219</th>\n",
       "      <td>1.302443</td>\n",
       "      <td>193.897644</td>\n",
       "      <td>5.003089</td>\n",
       "    </tr>\n",
       "    <tr>\n",
       "      <th>J2001</th>\n",
       "      <th>1033317219</th>\n",
       "      <td>0.020000</td>\n",
       "      <td>660.000000</td>\n",
       "      <td>10.404263</td>\n",
       "    </tr>\n",
       "  </tbody>\n",
       "</table>\n",
       "</div>"
      ],
      "text/plain": [
       "                       average_Medicare_allowed_amt  \\\n",
       "hcpcs_code npi                                        \n",
       "99223      1033317219                    206.563235   \n",
       "99222      1033317219                    143.090000   \n",
       "99204      1033317219                    173.720000   \n",
       "99215      1033317219                    153.360000   \n",
       "99214      1033317219                    114.170000   \n",
       "99203      1033317219                    114.622250   \n",
       "99213      1033317219                     77.790000   \n",
       "20611      1033317219                     97.457537   \n",
       "73565      1033317219                     38.550769   \n",
       "73502      1033317219                     45.410000   \n",
       "72040      1033317219                     35.920000   \n",
       "73630      1033317219                     31.740000   \n",
       "73110      1033317219                     38.870000   \n",
       "73610      1033317219                     34.022500   \n",
       "73552      1033317219                     35.660000   \n",
       "73562      1033317219                     39.220000   \n",
       "72100      1033317219                     38.290000   \n",
       "27245      1033317219                   1325.720000   \n",
       "73130      1033317219                     33.720000   \n",
       "73080      1033317219                     34.120000   \n",
       "73030      1033317219                     31.710000   \n",
       "27130      1033317219                   1458.370000   \n",
       "J7325      1033317219                     12.642156   \n",
       "J3303      1033317219                      1.302443   \n",
       "J2001      1033317219                      0.020000   \n",
       "\n",
       "                       average_submitted_chrg_amt        gap  \n",
       "hcpcs_code npi                                                \n",
       "99223      1033317219                  310.277647   0.406861  \n",
       "99222      1033317219                  244.267273   0.534789  \n",
       "99204      1033317219                  357.500000   0.721691  \n",
       "99215      1033317219                  316.800000   0.725483  \n",
       "99214      1033317219                  274.515915   0.877321  \n",
       "99203      1033317219                  323.585500   1.037821  \n",
       "99213      1033317219                  219.748918   1.038473  \n",
       "20611      1033317219                  330.665025   1.221689  \n",
       "73565      1033317219                  192.504231   1.608142  \n",
       "73502      1033317219                  231.296471   1.627968  \n",
       "72040      1033317219                  185.603478   1.642318  \n",
       "73630      1033317219                  177.677419   1.722392  \n",
       "73110      1033317219                  224.478462   1.753557  \n",
       "73610      1033317219                  199.426875   1.768426  \n",
       "73552      1033317219                  216.635294   1.804186  \n",
       "73562      1033317219                  248.084746   1.844584  \n",
       "72100      1033317219                  242.468852   1.845684  \n",
       "27245      1033317219                 8641.285714   1.874596  \n",
       "73130      1033317219                  224.400000   1.895339  \n",
       "73080      1033317219                  237.600000   1.940705  \n",
       "73030      1033317219                  264.920930   2.122799  \n",
       "27130      1033317219                22044.000000   2.715721  \n",
       "J7325      1033317219                  212.256182   2.820757  \n",
       "J3303      1033317219                  193.897644   5.003089  \n",
       "J2001      1033317219                  660.000000  10.404263  "
      ]
     },
     "execution_count": 114,
     "metadata": {},
     "output_type": "execute_result"
    }
   ],
   "source": [
    "idx = pd.IndexSlice\n",
    "hcpcs_provider_data.loc[idx[:,1033317219], idx[:]]"
   ]
  },
  {
   "cell_type": "code",
   "execution_count": null,
   "metadata": {},
   "outputs": [],
   "source": []
  }
 ],
 "metadata": {
  "kernelspec": {
   "display_name": "Python 3",
   "language": "python",
   "name": "python3"
  },
  "language_info": {
   "codemirror_mode": {
    "name": "ipython",
    "version": 3
   },
   "file_extension": ".py",
   "mimetype": "text/x-python",
   "name": "python",
   "nbconvert_exporter": "python",
   "pygments_lexer": "ipython3",
   "version": "3.7.3"
  }
 },
 "nbformat": 4,
 "nbformat_minor": 2
}
