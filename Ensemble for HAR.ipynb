{
 "cells": [
  {
   "cell_type": "code",
   "execution_count": 1,
   "metadata": {},
   "outputs": [],
   "source": [
    "import numpy as np\n",
    "import pandas as pd"
   ]
  },
  {
   "cell_type": "markdown",
   "metadata": {},
   "source": [
    "## Load the data"
   ]
  },
  {
   "cell_type": "code",
   "execution_count": 2,
   "metadata": {},
   "outputs": [
    {
     "name": "stdout",
     "output_type": "stream",
     "text": [
      "(7352, 561) (7352,) (2947, 561) (2947,)\n"
     ]
    }
   ],
   "source": [
    "trainX = pd.read_csv('./train/X_train.txt', header=None, delim_whitespace=True).values\n",
    "trainy = pd.read_csv('./train/y_train.txt', header=None, delim_whitespace=True).values\n",
    "testX = pd.read_csv('./test/X_test.txt', header=None, delim_whitespace=True).values\n",
    "testy = pd.read_csv('./test/y_test.txt', header=None, delim_whitespace=True).values\n",
    "trainy, testy = trainy[:,0], testy[:,0]\n",
    "print(trainX.shape, trainy.shape, testX.shape, testy.shape)"
   ]
  },
  {
   "cell_type": "markdown",
   "metadata": {},
   "source": [
    "## Import models"
   ]
  },
  {
   "cell_type": "code",
   "execution_count": 3,
   "metadata": {},
   "outputs": [],
   "source": [
    "from sklearn.neighbors import KNeighborsClassifier\n",
    "from sklearn.tree import DecisionTreeClassifier\n",
    "from sklearn.svm import SVC\n",
    "from sklearn.naive_bayes import GaussianNB\n",
    "from sklearn.ensemble import BaggingClassifier\n",
    "from sklearn.ensemble import RandomForestClassifier\n",
    "from sklearn.ensemble import ExtraTreesClassifier\n",
    "from sklearn.ensemble import GradientBoostingClassifier"
   ]
  },
  {
   "cell_type": "markdown",
   "metadata": {},
   "source": [
    "## Non_linear model generators"
   ]
  },
  {
   "cell_type": "code",
   "execution_count": 4,
   "metadata": {},
   "outputs": [],
   "source": [
    "def non_linear_models(models=dict()):\n",
    "    models['K-NN'] = KNeighborsClassifier(n_neighbors=7) \n",
    "    models['Decision Tree'] = DecisionTreeClassifier()\n",
    "    models['Support Vector Machine'] = SVC(gamma='auto')\n",
    "    models['Naive Bayes'] = GaussianNB()\n",
    "    return models"
   ]
  },
  {
   "cell_type": "markdown",
   "metadata": {},
   "source": [
    "## Superlearner models"
   ]
  },
  {
   "cell_type": "code",
   "execution_count": 5,
   "metadata": {},
   "outputs": [],
   "source": [
    "def super_learner_models(models = dict()):\n",
    "    models['Bagging'] = BaggingClassifier(n_estimators=100) \n",
    "    models['Random Forest'] = RandomForestClassifier(n_estimators=100) \n",
    "    models['Extra Trees'] = ExtraTreesClassifier(n_estimators=100) \n",
    "    models['Gradient Boost'] = GradientBoostingClassifier(n_estimators=100) \n",
    "    return models"
   ]
  },
  {
   "cell_type": "code",
   "execution_count": 6,
   "metadata": {},
   "outputs": [
    {
     "data": {
      "text/plain": [
       "8"
      ]
     },
     "execution_count": 6,
     "metadata": {},
     "output_type": "execute_result"
    }
   ],
   "source": [
    "models = super_learner_models(non_linear_models())\n",
    "len(models)"
   ]
  },
  {
   "cell_type": "markdown",
   "metadata": {},
   "source": [
    "## Prediction accuracy for a model"
   ]
  },
  {
   "cell_type": "code",
   "execution_count": 7,
   "metadata": {},
   "outputs": [],
   "source": [
    "from sklearn.metrics import accuracy_score\n",
    "def get_accuracy(model):\n",
    "    model.fit(trainX, trainy)\n",
    "    y_pred = model.predict(testX)\n",
    "    return accuracy_score(testy, y_pred) * 100.0"
   ]
  },
  {
   "cell_type": "markdown",
   "metadata": {},
   "source": [
    "## Mark the time of execution and accuracy for each model"
   ]
  },
  {
   "cell_type": "code",
   "execution_count": 8,
   "metadata": {},
   "outputs": [
    {
     "name": "stdout",
     "output_type": "stream",
     "text": [
      "getting accuracy for K-NN\n",
      "K-NN took 0:00:10.465225\n",
      "getting accuracy for Decision Tree\n",
      "Decision Tree took 0:00:03.107593\n",
      "getting accuracy for Support Vector Machine\n",
      "Support Vector Machine took 0:00:12.002902\n",
      "getting accuracy for Naive Bayes\n",
      "Naive Bayes took 0:00:00.105891\n",
      "getting accuracy for Bagging\n",
      "Bagging took 0:03:34.768426\n",
      "getting accuracy for Random Forest\n",
      "Random Forest took 0:00:08.017591\n",
      "getting accuracy for Extra Trees\n",
      "Extra Trees took 0:00:01.568931\n",
      "getting accuracy for Gradient Boost\n",
      "Gradient Boost took 0:02:04.597392\n"
     ]
    }
   ],
   "source": [
    "from datetime import datetime\n",
    "accuracies = dict()\n",
    "for k,v in models.items():\n",
    "    print('getting accuracy for %s' % k)\n",
    "    a = datetime.now()\n",
    "    accuracy = get_accuracy(v)\n",
    "    duration = datetime.now() - a\n",
    "    accuracies[k] = (accuracy, duration)\n",
    "    print('%s took %s' %(k, duration))"
   ]
  },
  {
   "cell_type": "markdown",
   "metadata": {},
   "source": [
    "## Sort and print results"
   ]
  },
  {
   "cell_type": "code",
   "execution_count": 9,
   "metadata": {},
   "outputs": [],
   "source": [
    "sorted_accuracies = sorted([(k,p[0],p[1]) for k,p in accuracies.items()], key=lambda x: -x[1])"
   ]
  },
  {
   "cell_type": "code",
   "execution_count": 10,
   "metadata": {},
   "outputs": [
    {
     "name": "stdout",
     "output_type": "stream",
     "text": [
      "Extra Trees: 94.129623 (0:00:01.568931)\n",
      "Support Vector Machine: 94.027825 (0:00:12.002902)\n",
      "Gradient Boost: 93.892094 (0:02:04.597392)\n",
      "Random Forest: 93.179505 (0:00:08.017591)\n",
      "K-NN: 90.329148 (0:00:10.465225)\n",
      "Bagging: 90.261283 (0:03:34.768426)\n",
      "Decision Tree: 85.951815 (0:00:03.107593)\n",
      "Naive Bayes: 77.027486 (0:00:00.105891)\n"
     ]
    }
   ],
   "source": [
    "for k,a,d in sorted_accuracies:\n",
    "    print('%s: %f (%s)' % (k,a,d))"
   ]
  },
  {
   "cell_type": "code",
   "execution_count": null,
   "metadata": {},
   "outputs": [],
   "source": []
  }
 ],
 "metadata": {
  "kernelspec": {
   "display_name": "Python 3",
   "language": "python",
   "name": "python3"
  },
  "language_info": {
   "codemirror_mode": {
    "name": "ipython",
    "version": 3
   },
   "file_extension": ".py",
   "mimetype": "text/x-python",
   "name": "python",
   "nbconvert_exporter": "python",
   "pygments_lexer": "ipython3",
   "version": "3.7.3"
  }
 },
 "nbformat": 4,
 "nbformat_minor": 2
}
