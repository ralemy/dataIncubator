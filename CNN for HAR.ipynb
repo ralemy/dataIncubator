{
 "cells": [
  {
   "cell_type": "code",
   "execution_count": 1,
   "metadata": {},
   "outputs": [],
   "source": [
    "import pandas as pd\n",
    "import numpy as np"
   ]
  },
  {
   "cell_type": "code",
   "execution_count": 2,
   "metadata": {},
   "outputs": [],
   "source": [
    "def read_values(name):\n",
    "    return pd.read_csv(name, header=None, delim_whitespace=True).values;\n",
    "\n",
    "def load_raw(group):\n",
    "    raw = list()\n",
    "    filenames = ['./%s/Inertial Signals/%s_%s_%s.txt' % (group,cmp,ax,group) \n",
    "                 for cmp in ['body_acc', 'body_gyro', 'total_acc'] for ax in ['x', 'y', 'z']]\n",
    "    for n in filenames:\n",
    "        raw.append(read_values(n))\n",
    "    return np.dstack(raw)"
   ]
  },
  {
   "cell_type": "code",
   "execution_count": 3,
   "metadata": {},
   "outputs": [],
   "source": [
    "trainX = load_raw('train')\n",
    "trainy = read_values('./train/y_train.txt')\n",
    "testX = load_raw('test')\n",
    "testy = read_values('./test/y_test.txt')"
   ]
  },
  {
   "cell_type": "code",
   "execution_count": 4,
   "metadata": {},
   "outputs": [
    {
     "name": "stderr",
     "output_type": "stream",
     "text": [
      "Using TensorFlow backend.\n"
     ]
    },
    {
     "data": {
      "text/plain": [
       "((2947, 128, 9), (2947, 6), (7352, 128, 9), (7352, 6))"
      ]
     },
     "execution_count": 4,
     "metadata": {},
     "output_type": "execute_result"
    }
   ],
   "source": [
    "from keras.utils import to_categorical\n",
    "trainy = to_categorical(trainy-1)\n",
    "testy = to_categorical(testy-1)\n",
    "testX.shape, testy.shape, trainX.shape, trainy.shape"
   ]
  },
  {
   "cell_type": "code",
   "execution_count": 7,
   "metadata": {},
   "outputs": [],
   "source": [
    "from keras.models import Sequential\n",
    "from keras.layers import Dense\n",
    "from keras.layers import Flatten\n",
    "from keras.layers import Dropout\n",
    "from keras.layers.convolutional import Conv1D\n",
    "from keras.layers.convolutional import MaxPooling1D\n",
    "def evaluate():\n",
    "    verbose, epochs, batch_size = 0, 10, 32\n",
    "    n_timesteps, n_features, n_outputs = trainX.shape[1], trainX.shape[2], trainy.shape[1] \n",
    "    model = Sequential()\n",
    "    model.add(Conv1D(64, 3, activation='relu', input_shape=(n_timesteps,n_features))) \n",
    "    model.add(Conv1D(64, 3, activation='relu'))\n",
    "    model.add(Dropout(0.5))\n",
    "    model.add(MaxPooling1D())\n",
    "    model.add(Flatten())\n",
    "    model.add(Dense(100, activation='relu'))\n",
    "    model.add(Dense(n_outputs, activation='softmax')) \n",
    "    model.compile(loss='categorical_crossentropy', optimizer='adam', metrics=['accuracy']) \n",
    "    model.fit(trainX, trainy, epochs=epochs, batch_size=batch_size, verbose=verbose)\n",
    "    _, accuracy = model.evaluate(testX, testy, batch_size=batch_size, verbose=0)\n",
    "    return accuracy\n"
   ]
  },
  {
   "cell_type": "code",
   "execution_count": 8,
   "metadata": {},
   "outputs": [
    {
     "name": "stdout",
     "output_type": "stream",
     "text": [
      "WARNING:tensorflow:From /Users/rezaalemy/anaconda3/envs/alij/lib/python3.7/site-packages/keras/backend/tensorflow_backend.py:74: The name tf.get_default_graph is deprecated. Please use tf.compat.v1.get_default_graph instead.\n",
      "\n",
      "WARNING:tensorflow:From /Users/rezaalemy/anaconda3/envs/alij/lib/python3.7/site-packages/keras/backend/tensorflow_backend.py:517: The name tf.placeholder is deprecated. Please use tf.compat.v1.placeholder instead.\n",
      "\n",
      "WARNING:tensorflow:From /Users/rezaalemy/anaconda3/envs/alij/lib/python3.7/site-packages/keras/backend/tensorflow_backend.py:4138: The name tf.random_uniform is deprecated. Please use tf.random.uniform instead.\n",
      "\n",
      "WARNING:tensorflow:From /Users/rezaalemy/anaconda3/envs/alij/lib/python3.7/site-packages/keras/backend/tensorflow_backend.py:133: The name tf.placeholder_with_default is deprecated. Please use tf.compat.v1.placeholder_with_default instead.\n",
      "\n",
      "WARNING:tensorflow:From /Users/rezaalemy/anaconda3/envs/alij/lib/python3.7/site-packages/keras/backend/tensorflow_backend.py:3445: calling dropout (from tensorflow.python.ops.nn_ops) with keep_prob is deprecated and will be removed in a future version.\n",
      "Instructions for updating:\n",
      "Please use `rate` instead of `keep_prob`. Rate should be set to `rate = 1 - keep_prob`.\n",
      "WARNING:tensorflow:From /Users/rezaalemy/anaconda3/envs/alij/lib/python3.7/site-packages/keras/backend/tensorflow_backend.py:3976: The name tf.nn.max_pool is deprecated. Please use tf.nn.max_pool2d instead.\n",
      "\n",
      "WARNING:tensorflow:From /Users/rezaalemy/anaconda3/envs/alij/lib/python3.7/site-packages/keras/optimizers.py:790: The name tf.train.Optimizer is deprecated. Please use tf.compat.v1.train.Optimizer instead.\n",
      "\n",
      "WARNING:tensorflow:From /Users/rezaalemy/anaconda3/envs/alij/lib/python3.7/site-packages/keras/backend/tensorflow_backend.py:3295: The name tf.log is deprecated. Please use tf.math.log instead.\n",
      "\n",
      "WARNING:tensorflow:From /Users/rezaalemy/anaconda3/envs/alij/lib/python3.7/site-packages/tensorflow/python/ops/math_grad.py:1250: add_dispatch_support.<locals>.wrapper (from tensorflow.python.ops.array_ops) is deprecated and will be removed in a future version.\n",
      "Instructions for updating:\n",
      "Use tf.where in 2.0, which has the same broadcast rule as np.where\n",
      "iteration: 0 accuracy 0.901256 in 0:01:04.253467\n",
      "iteration: 1 accuracy 0.907024 in 0:01:13.519357\n",
      "iteration: 2 accuracy 0.894130 in 0:01:06.056280\n",
      "iteration: 3 accuracy 0.900577 in 0:01:05.024860\n",
      "iteration: 4 accuracy 0.915507 in 0:01:07.736438\n",
      "iteration: 5 accuracy 0.899220 in 0:01:06.181616\n",
      "iteration: 6 accuracy 0.907363 in 0:01:07.211142\n",
      "iteration: 7 accuracy 0.902952 in 0:01:04.673890\n",
      "iteration: 8 accuracy 0.899559 in 0:01:06.134484\n",
      "iteration: 9 accuracy 0.901934 in 0:01:07.213402\n"
     ]
    }
   ],
   "source": [
    "from datetime import datetime\n",
    "results = list();\n",
    "for r in range(10):\n",
    "    start = datetime.now();\n",
    "    ac = evaluate()\n",
    "    du = datetime.now() - start;\n",
    "    print('iteration: %s accuracy %f in %s' % (r,ac, du))\n",
    "    results.append((ac,du))"
   ]
  },
  {
   "cell_type": "code",
   "execution_count": 12,
   "metadata": {},
   "outputs": [
    {
     "name": "stdout",
     "output_type": "stream",
     "text": [
      "accuracy: 0.901256 , duration 0:01:04.253467\n",
      "accuracy: 0.907024 , duration 0:01:13.519357\n",
      "accuracy: 0.894130 , duration 0:01:06.056280\n",
      "accuracy: 0.900577 , duration 0:01:05.024860\n",
      "accuracy: 0.915507 , duration 0:01:07.736438\n",
      "accuracy: 0.899220 , duration 0:01:06.181616\n",
      "accuracy: 0.907363 , duration 0:01:07.211142\n",
      "accuracy: 0.902952 , duration 0:01:04.673890\n",
      "accuracy: 0.899559 , duration 0:01:06.134484\n",
      "accuracy: 0.901934 , duration 0:01:07.213402\n",
      "accuracy: mean 0.902952, std 0.005536\n"
     ]
    }
   ],
   "source": [
    "from numpy import mean\n",
    "from numpy import std\n",
    "[print('accuracy: %f , duration %s' % (p[0], p[1])) for p in results]\n",
    "accuracies = [p[0] for p in results]\n",
    "print('accuracy: mean %f, std %f' % (mean(accuracies), std(accuracies)))\n",
    "\n"
   ]
  },
  {
   "cell_type": "code",
   "execution_count": null,
   "metadata": {},
   "outputs": [],
   "source": []
  },
  {
   "cell_type": "code",
   "execution_count": null,
   "metadata": {},
   "outputs": [],
   "source": []
  },
  {
   "cell_type": "raw",
   "metadata": {},
   "source": []
  }
 ],
 "metadata": {
  "kernelspec": {
   "display_name": "Python 3",
   "language": "python",
   "name": "python3"
  },
  "language_info": {
   "codemirror_mode": {
    "name": "ipython",
    "version": 3
   },
   "file_extension": ".py",
   "mimetype": "text/x-python",
   "name": "python",
   "nbconvert_exporter": "python",
   "pygments_lexer": "ipython3",
   "version": "3.7.3"
  }
 },
 "nbformat": 4,
 "nbformat_minor": 2
}
